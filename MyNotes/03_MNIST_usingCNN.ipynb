{
 "cells": [
  {
   "cell_type": "code",
   "execution_count": 1,
   "metadata": {},
   "outputs": [],
   "source": [
    "import numpy as np\n",
    "import pandas as pd\n",
    "from sklearn.metrics import confusion_matrix  # for evaluating results\n",
    "import matplotlib.pyplot as plt\n",
    "%matplotlib inline"
   ]
  },
  {
   "cell_type": "code",
   "execution_count": 2,
   "metadata": {},
   "outputs": [],
   "source": [
    "import torch\n",
    "import torch.nn as nn\n",
    "import torch.nn.functional as F          # adds some efficiency\n",
    "from torch.utils.data import DataLoader  # lets us load data in batches\n",
    "from torchvision import datasets, transforms"
   ]
  },
  {
   "cell_type": "markdown",
   "metadata": {},
   "source": [
    "## Convert MNIST to Torch Tensors"
   ]
  },
  {
   "cell_type": "code",
   "execution_count": 44,
   "metadata": {},
   "outputs": [],
   "source": [
    "use_cuda = torch.cuda.is_available()\n",
    "use_cuda"
   ]
  },
  {
   "cell_type": "code",
   "execution_count": 45,
   "metadata": {},
   "outputs": [],
   "source": [
    "transform = transforms.ToTensor()  \n",
    "# There are many other transforms, for this one, we only use ToTensor"
   ]
  },
  {
   "cell_type": "code",
   "execution_count": 46,
   "metadata": {},
   "outputs": [
    {
     "data": {
      "text/plain": [
       "Dataset MNIST\n",
       "    Number of datapoints: 60000\n",
       "    Split: train\n",
       "    Root Location: ../PYTORCH_NOTEBOOKS/Data\n",
       "    Transforms (if any): ToTensor()\n",
       "    Target Transforms (if any): None"
      ]
     },
     "execution_count": 46,
     "metadata": {},
     "output_type": "execute_result"
    }
   ],
   "source": [
    "train_data = datasets.MNIST(root='../PYTORCH_NOTEBOOKS/Data',\n",
    "                            train=True,\n",
    "                            download=True,\n",
    "                            transform=transform)\n",
    "train_data"
   ]
  },
  {
   "cell_type": "code",
   "execution_count": 47,
   "metadata": {},
   "outputs": [
    {
     "data": {
      "text/plain": [
       "Dataset MNIST\n",
       "    Number of datapoints: 10000\n",
       "    Split: test\n",
       "    Root Location: ../PYTORCH_NOTEBOOKS/Data\n",
       "    Transforms (if any): ToTensor()\n",
       "    Target Transforms (if any): None"
      ]
     },
     "execution_count": 47,
     "metadata": {},
     "output_type": "execute_result"
    }
   ],
   "source": [
    "test_data = datasets.MNIST(root='../PYTORCH_NOTEBOOKS/Data',\n",
    "                           train=False,\n",
    "                           download=True,\n",
    "                           transform=transform)\n",
    "test_data"
   ]
  },
  {
   "cell_type": "code",
   "execution_count": 48,
   "metadata": {},
   "outputs": [
    {
     "name": "stdout",
     "output_type": "stream",
     "text": [
      "Shape: torch.Size([1, 28, 28]) \n",
      "Label: 5\n"
     ]
    }
   ],
   "source": [
    "image, label = train_data[0]\n",
    "print('Shape:', image.shape, '\\nLabel:', label)"
   ]
  },
  {
   "cell_type": "code",
   "execution_count": 49,
   "metadata": {},
   "outputs": [
    {
     "data": {
      "image/png": "[encoded data removed]",
      "text/plain": [
       "<Figure size 432x288 with 1 Axes>"
      ]
     },
     "metadata": {
      "needs_background": "light"
     },
     "output_type": "display_data"
    }
   ],
   "source": [
    "plt.imshow(train_data[0][0].reshape((28,28)), cmap=\"gray\");"
   ]
  },
  {
   "cell_type": "markdown",
   "metadata": {},
   "source": [
    "## Data Loader"
   ]
  },
  {
   "cell_type": "code",
   "execution_count": 50,
   "metadata": {},
   "outputs": [],
   "source": [
    "torch.manual_seed(101)  # for consistent results\n",
    "train_loader = DataLoader(train_data,\n",
    "                          batch_size=10,\n",
    "                          shuffle=True,\n",
    "                          pin_memory=True)\n",
    "test_loader = DataLoader(test_data,\n",
    "                         batch_size=10,\n",
    "                         shuffle=False,\n",
    "                         pin_memory=True)"
   ]
  },
  {
   "cell_type": "code",
   "execution_count": 51,
   "metadata": {},
   "outputs": [
    {
     "name": "stdout",
     "output_type": "stream",
     "text": [
      "Labels:  [    0     5     7     8     6     7     9     7     1     3]\n"
     ]
    },
    {
     "data": {
      "image/png": "[encoded data removed]",
      "text/plain": [
       "<Figure size 720x288 with 1 Axes>"
      ]
     },
     "metadata": {
      "needs_background": "light"
     },
     "output_type": "display_data"
    }
   ],
   "source": [
    "from torchvision.utils import make_grid\n",
    "np.set_printoptions(formatter=dict(int=lambda x: f'{x:5}')) # to widen the printed array\n",
    "\n",
    "# Grab the first batch of images\n",
    "for images,labels in train_loader: \n",
    "    break\n",
    "\n",
    "# Print the first 12 labels\n",
    "print('Labels: ', labels[:10].numpy())\n",
    "\n",
    "# Print the first 12 images\n",
    "im = make_grid(images[:10], nrow=12)  # the default nrow is 8\n",
    "plt.figure(figsize=(10,4))\n",
    "# We need to transpose the images from CWH to WHC\n",
    "plt.imshow(np.transpose(im.numpy(), (1, 2, 0)));"
   ]
  },
  {
   "cell_type": "markdown",
   "metadata": {},
   "source": [
    "## Define the Model"
   ]
  },
  {
   "cell_type": "code",
   "execution_count": 52,
   "metadata": {},
   "outputs": [],
   "source": [
    "# Using ANN (For Reference only - not used in this example)\n",
    "class MultilayerPerceptron(nn.Module):\n",
    "    def __init__(self, in_sz=784, out_sz=10, layers=[120,84]):\n",
    "        super().__init__()\n",
    "        self.fc1 = nn.Linear(in_sz,layers[0])\n",
    "        self.fc2 = nn.Linear(layers[0],layers[1])\n",
    "        self.fc3 = nn.Linear(layers[1],out_sz)\n",
    "    \n",
    "    def forward(self,X):\n",
    "        # Wrapper method for ReLU\n",
    "        X = F.relu(self.fc1(X))\n",
    "        X = F.relu(self.fc2(X))\n",
    "        X = self.fc3(X)\n",
    "        return F.log_softmax(X, dim=1)  # Softmax not Sigmoid"
   ]
  },
  {
   "cell_type": "code",
   "execution_count": 12,
   "metadata": {},
   "outputs": [],
   "source": [
    "# Using CNN\n",
    "class ConvolutionalNetwork(nn.Module):\n",
    "    def __init__(self):\n",
    "        super().__init__()\n",
    "        # nn.Conv2d(in_channels=1, out_channels=6, kernel_size=3, stride=1)\n",
    "        # Gray scale so only 1 channel, 6 filters\n",
    "        self.conv1 = nn.Conv2d(1, 6, 3, 1) \n",
    "        # Above: 6 filters -> pooling\n",
    "        # Size after conv2d = (28 -3 + 1) = 26x26\n",
    "        # Size after max pool = 13x13\n",
    "        self.conv2 = nn.Conv2d(6, 16, 3, 1)\n",
    "        # Above: 16 filters -> pooling\n",
    "        # Size after conv2d = (13 -3 + 1) = 11x11\n",
    "        # Size after max pool = 5x5\n",
    "        self.fc1 = nn.Linear(5*5*16, 120)\n",
    "        self.fc2 = nn.Linear(120, 84)\n",
    "        self.fc3 = nn.Linear(84,10)\n",
    "\n",
    "    def forward(self, X):\n",
    "        X = F.relu(self.conv1(X))\n",
    "        X = F.max_pool2d(X, 2, 2)\n",
    "        X = F.relu(self.conv2(X))\n",
    "        X = F.max_pool2d(X, 2, 2)\n",
    "        \n",
    "        # below is essentially flattening and taking batch size into account\n",
    "        X = X.view(-1, 5*5*16)  # -1 so that we can vary the batch size\n",
    "        X = F.relu(self.fc1(X))\n",
    "        X = F.relu(self.fc2(X))\n",
    "        X = self.fc3(X)\n",
    "        return F.log_softmax(X, dim=1)"
   ]
  },
  {
   "cell_type": "code",
   "execution_count": 13,
   "metadata": {},
   "outputs": [
    {
     "data": {
      "text/plain": [
       "ConvolutionalNetwork(\n",
       "  (conv1): Conv2d(1, 6, kernel_size=(3, 3), stride=(1, 1))\n",
       "  (conv2): Conv2d(6, 16, kernel_size=(3, 3), stride=(1, 1))\n",
       "  (fc1): Linear(in_features=400, out_features=120, bias=True)\n",
       "  (fc2): Linear(in_features=120, out_features=84, bias=True)\n",
       "  (fc3): Linear(in_features=84, out_features=10, bias=True)\n",
       ")"
      ]
     },
     "execution_count": 13,
     "metadata": {},
     "output_type": "execute_result"
    }
   ],
   "source": [
    "torch.manual_seed(42)\n",
    "model = ConvolutionalNetwork()\n",
    "model"
   ]
  },
  {
   "cell_type": "code",
   "execution_count": 14,
   "metadata": {},
   "outputs": [
    {
     "data": {
      "text/plain": [
       "True"
      ]
     },
     "execution_count": 14,
     "metadata": {},
     "output_type": "execute_result"
    }
   ],
   "source": [
    "if use_cuda:\n",
    "    model = model.cuda()\n",
    "\n",
    "next(model.parameters()).is_cuda # Need to send model to GPU as well."
   ]
  },
  {
   "cell_type": "code",
   "execution_count": 15,
   "metadata": {},
   "outputs": [],
   "source": [
    "# Count Parameters (Optional)"
   ]
  },
  {
   "cell_type": "code",
   "execution_count": 16,
   "metadata": {},
   "outputs": [],
   "source": [
    "def count_parameters(model):\n",
    "    params = [p.numel() for p in model.parameters() if p.requires_grad]\n",
    "    for item in params:\n",
    "        print(f'{item:>6}')\n",
    "    print(f'______\\n{sum(params):>6}')"
   ]
  },
  {
   "cell_type": "code",
   "execution_count": 17,
   "metadata": {},
   "outputs": [
    {
     "name": "stdout",
     "output_type": "stream",
     "text": [
      "    54\n",
      "     6\n",
      "   864\n",
      "    16\n",
      " 48000\n",
      "   120\n",
      " 10080\n",
      "    84\n",
      "   840\n",
      "    10\n",
      "______\n",
      " 60074\n"
     ]
    }
   ],
   "source": [
    "count_parameters(model)"
   ]
  },
  {
   "cell_type": "code",
   "execution_count": 18,
   "metadata": {},
   "outputs": [],
   "source": [
    "criterion = nn.CrossEntropyLoss()\n",
    "optimizer = torch.optim.Adam(model.parameters(), lr=0.001)"
   ]
  },
  {
   "cell_type": "markdown",
   "metadata": {},
   "source": [
    "# Flattening the Images (Not Needed for CNN)"
   ]
  },
  {
   "cell_type": "code",
   "execution_count": 19,
   "metadata": {},
   "outputs": [],
   "source": [
    "# # Load the first batch, print its shape\n",
    "# for images, labels in train_loader:\n",
    "#     print('Batch shape:', images.size())\n",
    "#     break\n",
    "    \n",
    "# # EQUIVALENT TO:\n",
    "# # dataiter = iter(train_loader)\n",
    "# # images, labels = dataiter.next()\n",
    "# # print('Batch shape:', images.size())"
   ]
  },
  {
   "cell_type": "code",
   "execution_count": 20,
   "metadata": {},
   "outputs": [],
   "source": [
    "# # Load the first batch, print its shape\n",
    "# for images, labels in train_loader:\n",
    "#     print('Batch shape:', images.size())\n",
    "#     break\n",
    "    \n",
    "# # EQUIVALENT TO:\n",
    "# # dataiter = iter(train_loader)\n",
    "# # images, labels = dataiter.next()\n",
    "# # print('Batch shape:', images.size())"
   ]
  },
  {
   "cell_type": "code",
   "execution_count": 21,
   "metadata": {},
   "outputs": [],
   "source": [
    "# images.view(100,-1).size()"
   ]
  },
  {
   "cell_type": "markdown",
   "metadata": {},
   "source": [
    "## Train the model"
   ]
  },
  {
   "cell_type": "code",
   "execution_count": 22,
   "metadata": {},
   "outputs": [
    {
     "name": "stdout",
     "output_type": "stream",
     "text": [
      "epoch:  0  batch:  600 [  6000/60000)]  loss: 0.21157122  accuracy:  78.233%\n",
      "epoch:  0  batch: 1200 [ 12000/60000)]  loss: 0.54952776  accuracy:  85.317%\n",
      "epoch:  0  batch: 1800 [ 18000/60000)]  loss: 0.05257447  accuracy:  88.444%\n",
      "epoch:  0  batch: 2400 [ 24000/60000)]  loss: 0.02388734  accuracy:  90.242%\n",
      "epoch:  0  batch: 3000 [ 30000/60000)]  loss: 0.00784931  accuracy:  91.447%\n",
      "epoch:  0  batch: 3600 [ 36000/60000)]  loss: 0.00494886  accuracy:  92.242%\n",
      "epoch:  0  batch: 4200 [ 42000/60000)]  loss: 0.06191576  accuracy:  92.831%\n",
      "epoch:  0  batch: 4800 [ 48000/60000)]  loss: 0.00274764  accuracy:  93.358%\n",
      "epoch:  0  batch: 5400 [ 54000/60000)]  loss: 0.00046723  accuracy:  93.789%\n",
      "epoch:  0  batch: 6000 [ 60000/60000)]  loss: 0.00934979  accuracy:  94.148%\n",
      "epoch:  1  batch:  600 [  6000/60000)]  loss: 0.10715421  accuracy:  97.867%\n",
      "epoch:  1  batch: 1200 [ 12000/60000)]  loss: 0.22486667  accuracy:  97.850%\n",
      "epoch:  1  batch: 1800 [ 18000/60000)]  loss: 0.22534768  accuracy:  97.778%\n",
      "epoch:  1  batch: 2400 [ 24000/60000)]  loss: 0.00064092  accuracy:  97.821%\n",
      "epoch:  1  batch: 3000 [ 30000/60000)]  loss: 0.00159239  accuracy:  97.857%\n",
      "epoch:  1  batch: 3600 [ 36000/60000)]  loss: 0.12921873  accuracy:  97.892%\n",
      "epoch:  1  batch: 4200 [ 42000/60000)]  loss: 0.00513226  accuracy:  97.919%\n",
      "epoch:  1  batch: 4800 [ 48000/60000)]  loss: 0.12939224  accuracy:  97.923%\n",
      "epoch:  1  batch: 5400 [ 54000/60000)]  loss: 0.03794569  accuracy:  97.967%\n",
      "epoch:  1  batch: 6000 [ 60000/60000)]  loss: 0.01249298  accuracy:  97.978%\n",
      "epoch:  2  batch:  600 [  6000/60000)]  loss: 0.00323844  accuracy:  98.700%\n",
      "epoch:  2  batch: 1200 [ 12000/60000)]  loss: 0.00101335  accuracy:  98.567%\n",
      "epoch:  2  batch: 1800 [ 18000/60000)]  loss: 0.00039672  accuracy:  98.500%\n",
      "epoch:  2  batch: 2400 [ 24000/60000)]  loss: 0.00099028  accuracy:  98.454%\n",
      "epoch:  2  batch: 3000 [ 30000/60000)]  loss: 0.00477734  accuracy:  98.510%\n",
      "epoch:  2  batch: 3600 [ 36000/60000)]  loss: 0.00017985  accuracy:  98.531%\n",
      "epoch:  2  batch: 4200 [ 42000/60000)]  loss: 0.00315798  accuracy:  98.517%\n",
      "epoch:  2  batch: 4800 [ 48000/60000)]  loss: 0.00022012  accuracy:  98.546%\n",
      "epoch:  2  batch: 5400 [ 54000/60000)]  loss: 0.00105107  accuracy:  98.550%\n",
      "epoch:  2  batch: 6000 [ 60000/60000)]  loss: 0.00001124  accuracy:  98.563%\n",
      "epoch:  3  batch:  600 [  6000/60000)]  loss: 0.00352260  accuracy:  99.150%\n",
      "epoch:  3  batch: 1200 [ 12000/60000)]  loss: 0.00196238  accuracy:  98.950%\n",
      "epoch:  3  batch: 1800 [ 18000/60000)]  loss: 0.00224718  accuracy:  98.867%\n",
      "epoch:  3  batch: 2400 [ 24000/60000)]  loss: 0.00205034  accuracy:  98.892%\n",
      "epoch:  3  batch: 3000 [ 30000/60000)]  loss: 0.00004905  accuracy:  98.903%\n",
      "epoch:  3  batch: 3600 [ 36000/60000)]  loss: 0.00027185  accuracy:  98.919%\n",
      "epoch:  3  batch: 4200 [ 42000/60000)]  loss: 0.00366226  accuracy:  98.886%\n",
      "epoch:  3  batch: 4800 [ 48000/60000)]  loss: 0.00239096  accuracy:  98.923%\n",
      "epoch:  3  batch: 5400 [ 54000/60000)]  loss: 0.00139505  accuracy:  98.930%\n",
      "epoch:  3  batch: 6000 [ 60000/60000)]  loss: 0.00123290  accuracy:  98.918%\n",
      "epoch:  4  batch:  600 [  6000/60000)]  loss: 0.00106557  accuracy:  99.100%\n",
      "epoch:  4  batch: 1200 [ 12000/60000)]  loss: 0.18994042  accuracy:  99.100%\n",
      "epoch:  4  batch: 1800 [ 18000/60000)]  loss: 0.00069778  accuracy:  99.117%\n",
      "epoch:  4  batch: 2400 [ 24000/60000)]  loss: 0.00006862  accuracy:  99.100%\n",
      "epoch:  4  batch: 3000 [ 30000/60000)]  loss: 0.00025438  accuracy:  99.080%\n",
      "epoch:  4  batch: 3600 [ 36000/60000)]  loss: 0.00062573  accuracy:  99.075%\n",
      "epoch:  4  batch: 4200 [ 42000/60000)]  loss: 0.00037097  accuracy:  99.067%\n",
      "epoch:  4  batch: 4800 [ 48000/60000)]  loss: 0.00005607  accuracy:  99.079%\n",
      "epoch:  4  batch: 5400 [ 54000/60000)]  loss: 0.09169351  accuracy:  99.085%\n",
      "epoch:  4  batch: 6000 [ 60000/60000)]  loss: 0.00015089  accuracy:  99.080%\n",
      "epoch:  5  batch:  600 [  6000/60000)]  loss: 0.00000126  accuracy:  99.400%\n",
      "epoch:  5  batch: 1200 [ 12000/60000)]  loss: 0.00017733  accuracy:  99.258%\n",
      "epoch:  5  batch: 1800 [ 18000/60000)]  loss: 0.03214362  accuracy:  99.244%\n",
      "epoch:  5  batch: 2400 [ 24000/60000)]  loss: 0.00001802  accuracy:  99.263%\n",
      "epoch:  5  batch: 3000 [ 30000/60000)]  loss: 0.00000069  accuracy:  99.270%\n",
      "epoch:  5  batch: 3600 [ 36000/60000)]  loss: 0.00499925  accuracy:  99.256%\n",
      "epoch:  5  batch: 4200 [ 42000/60000)]  loss: 0.00000796  accuracy:  99.262%\n",
      "epoch:  5  batch: 4800 [ 48000/60000)]  loss: 0.00053251  accuracy:  99.248%\n",
      "epoch:  5  batch: 5400 [ 54000/60000)]  loss: 0.00519244  accuracy:  99.224%\n",
      "epoch:  5  batch: 6000 [ 60000/60000)]  loss: 0.19670719  accuracy:  99.225%\n",
      "epoch:  6  batch:  600 [  6000/60000)]  loss: 0.00297324  accuracy:  99.467%\n",
      "epoch:  6  batch: 1200 [ 12000/60000)]  loss: 0.00018660  accuracy:  99.492%\n",
      "epoch:  6  batch: 1800 [ 18000/60000)]  loss: 0.00096398  accuracy:  99.383%\n",
      "epoch:  6  batch: 2400 [ 24000/60000)]  loss: 0.00169126  accuracy:  99.383%\n",
      "epoch:  6  batch: 3000 [ 30000/60000)]  loss: 0.00996084  accuracy:  99.400%\n",
      "epoch:  6  batch: 3600 [ 36000/60000)]  loss: 0.00003467  accuracy:  99.375%\n",
      "epoch:  6  batch: 4200 [ 42000/60000)]  loss: 0.00022510  accuracy:  99.364%\n",
      "epoch:  6  batch: 4800 [ 48000/60000)]  loss: 0.00014214  accuracy:  99.379%\n",
      "epoch:  6  batch: 5400 [ 54000/60000)]  loss: 0.00000451  accuracy:  99.380%\n",
      "epoch:  6  batch: 6000 [ 60000/60000)]  loss: 0.00000571  accuracy:  99.378%\n",
      "epoch:  7  batch:  600 [  6000/60000)]  loss: 0.00056293  accuracy:  99.233%\n",
      "epoch:  7  batch: 1200 [ 12000/60000)]  loss: 0.00001171  accuracy:  99.408%\n",
      "epoch:  7  batch: 1800 [ 18000/60000)]  loss: 0.00025933  accuracy:  99.456%\n",
      "epoch:  7  batch: 2400 [ 24000/60000)]  loss: 0.00000191  accuracy:  99.408%\n",
      "epoch:  7  batch: 3000 [ 30000/60000)]  loss: 0.00041505  accuracy:  99.390%\n",
      "epoch:  7  batch: 3600 [ 36000/60000)]  loss: 0.00993281  accuracy:  99.367%\n",
      "epoch:  7  batch: 4200 [ 42000/60000)]  loss: 0.00044085  accuracy:  99.367%\n",
      "epoch:  7  batch: 4800 [ 48000/60000)]  loss: 0.00031790  accuracy:  99.356%\n",
      "epoch:  7  batch: 5400 [ 54000/60000)]  loss: 0.00007736  accuracy:  99.378%\n",
      "epoch:  7  batch: 6000 [ 60000/60000)]  loss: 0.00020127  accuracy:  99.373%\n",
      "epoch:  8  batch:  600 [  6000/60000)]  loss: 0.00000689  accuracy:  99.483%\n",
      "epoch:  8  batch: 1200 [ 12000/60000)]  loss: 0.00010101  accuracy:  99.400%\n",
      "epoch:  8  batch: 1800 [ 18000/60000)]  loss: 0.00000750  accuracy:  99.467%\n",
      "epoch:  8  batch: 2400 [ 24000/60000)]  loss: 0.00000530  accuracy:  99.417%\n",
      "epoch:  8  batch: 3000 [ 30000/60000)]  loss: 0.00409236  accuracy:  99.390%\n",
      "epoch:  8  batch: 3600 [ 36000/60000)]  loss: 0.00002724  accuracy:  99.419%\n",
      "epoch:  8  batch: 4200 [ 42000/60000)]  loss: 0.00000900  accuracy:  99.433%\n",
      "epoch:  8  batch: 4800 [ 48000/60000)]  loss: 0.00001155  accuracy:  99.435%\n",
      "epoch:  8  batch: 5400 [ 54000/60000)]  loss: 0.00131096  accuracy:  99.444%\n",
      "epoch:  8  batch: 6000 [ 60000/60000)]  loss: 0.00060411  accuracy:  99.435%\n",
      "epoch:  9  batch:  600 [  6000/60000)]  loss: 0.00825474  accuracy:  99.617%\n",
      "epoch:  9  batch: 1200 [ 12000/60000)]  loss: 0.00203454  accuracy:  99.633%\n",
      "epoch:  9  batch: 1800 [ 18000/60000)]  loss: 0.00087069  accuracy:  99.667%\n",
      "epoch:  9  batch: 2400 [ 24000/60000)]  loss: 0.00003420  accuracy:  99.662%\n",
      "epoch:  9  batch: 3000 [ 30000/60000)]  loss: 0.00000088  accuracy:  99.620%\n",
      "epoch:  9  batch: 3600 [ 36000/60000)]  loss: 0.03651927  accuracy:  99.589%\n",
      "epoch:  9  batch: 4200 [ 42000/60000)]  loss: 0.00001242  accuracy:  99.600%\n",
      "epoch:  9  batch: 4800 [ 48000/60000)]  loss: 0.00000871  accuracy:  99.585%\n",
      "epoch:  9  batch: 5400 [ 54000/60000)]  loss: 0.00714987  accuracy:  99.569%\n",
      "epoch:  9  batch: 6000 [ 60000/60000)]  loss: 0.00000032  accuracy:  99.572%\n",
      "\n",
      "Duration: 807 seconds\n"
     ]
    }
   ],
   "source": [
    "import time\n",
    "start_time = time.time()\n",
    "\n",
    "epochs = 5\n",
    "train_losses = []\n",
    "test_losses = []\n",
    "train_correct = []\n",
    "test_correct = []\n",
    "\n",
    "for i in range(epochs):\n",
    "    trn_corr = 0\n",
    "    tst_corr = 0\n",
    "    \n",
    "    # Run the training batches\n",
    "    for b, (X_train, y_train) in enumerate(train_loader):\n",
    "        b+=1\n",
    "        \n",
    "        if use_cuda:\n",
    "            X_train, y_train = X_train.cuda(), y_train.cuda()\n",
    "        \n",
    "        # Apply the model\n",
    "        # y_pred = model(X_train.view(100, -1))  # Here we flatten X_train\n",
    "        y_pred = model(X_train)  # Here we flatten X_train\n",
    "        loss = criterion(y_pred, y_train)\n",
    " \n",
    "        # Tally the number of correct predictions\n",
    "        predicted = torch.max(y_pred.data, 1)[1]\n",
    "        batch_corr = (predicted == y_train).sum()\n",
    "        trn_corr += batch_corr\n",
    "        \n",
    "        # Update parameters\n",
    "        optimizer.zero_grad()\n",
    "        loss.backward()\n",
    "        optimizer.step()\n",
    "        \n",
    "        # Print interim results\n",
    "        if b%600 == 0:\n",
    "            print(f'epoch: {i:2}  batch: {b:4} [{train_loader.batch_size*b:6}/{len(train_data)})]  loss: {loss.item():10.8f}  \\\n",
    "accuracy: {trn_corr.item()*100/(train_loader.batch_size*b):7.3f}%')\n",
    "    \n",
    "    # Update train loss & accuracy for the epoch\n",
    "    train_losses.append(loss)\n",
    "    train_correct.append(trn_corr)\n",
    "        \n",
    "    # Run the testing batches\n",
    "    with torch.no_grad():\n",
    "        for b, (X_test, y_test) in enumerate(test_loader):\n",
    "\n",
    "            if use_cuda:\n",
    "                X_test, y_test = X_test.cuda(), y_test.cuda()\n",
    "            \n",
    "            # Apply the model\n",
    "            # y_val = model(X_test.view(500, -1))  # Here we flatten X_test\n",
    "            y_val = model(X_test)  # Here we flatten X_test\n",
    "\n",
    "            # Tally the number of correct predictions\n",
    "            predicted = torch.max(y_val.data, 1)[1] \n",
    "            tst_corr += (predicted == y_test).sum()\n",
    "    \n",
    "    # Update test loss & accuracy for the epoch\n",
    "    loss = criterion(y_val, y_test)\n",
    "    test_losses.append(loss)\n",
    "    test_correct.append(tst_corr)\n",
    "        \n",
    "print(f'\\nDuration: {time.time() - start_time:.0f} seconds') # print the time elapsed            "
   ]
  },
  {
   "cell_type": "code",
   "execution_count": 23,
   "metadata": {},
   "outputs": [
    {
     "data": {
      "image/png": "[encoded data removed]",
      "text/plain": [
       "<Figure size 432x288 with 1 Axes>"
      ]
     },
     "metadata": {
      "needs_background": "light"
     },
     "output_type": "display_data"
    }
   ],
   "source": [
    "plt.plot(train_losses, label='training loss')\n",
    "plt.plot(test_losses, label='validation loss')\n",
    "plt.title('Loss at the end of each epoch')\n",
    "plt.legend();"
   ]
  },
  {
   "cell_type": "code",
   "execution_count": 24,
   "metadata": {},
   "outputs": [
    {
     "data": {
      "image/png": "[encoded data removed]",
      "text/plain": [
       "<Figure size 432x288 with 1 Axes>"
      ]
     },
     "metadata": {
      "needs_background": "light"
     },
     "output_type": "display_data"
    }
   ],
   "source": [
    "plt.plot([float(t)/len(train_data)*100 for t in train_correct], label='training accuracy')\n",
    "plt.plot([float(t)/len(test_data)*100 for t in test_correct], label='validation accuracy')\n",
    "plt.title('Accuracy at the end of each epoch')\n",
    "plt.legend();"
   ]
  },
  {
   "cell_type": "markdown",
   "metadata": {},
   "source": [
    "## Evaluate Test Data"
   ]
  },
  {
   "cell_type": "code",
   "execution_count": 25,
   "metadata": {},
   "outputs": [],
   "source": [
    "# Extract the data all at once, not in batches\n",
    "test_load_all = DataLoader(test_data, batch_size=len(test_data), shuffle=False)"
   ]
  },
  {
   "cell_type": "code",
   "execution_count": 27,
   "metadata": {},
   "outputs": [
    {
     "name": "stdout",
     "output_type": "stream",
     "text": [
      "Test accuracy: 9865/10000 =  98.650%\n"
     ]
    }
   ],
   "source": [
    "with torch.no_grad():\n",
    "    correct = 0\n",
    "    for X_test, y_test in test_load_all:\n",
    "        if use_cuda:\n",
    "            X_test, y_test = X_test.cuda(), y_test.cuda()\n",
    "        \n",
    "        #y_val = model(X_test.view(len(X_test), -1))  # pass in a flattened view of X_test\n",
    "        y_val = model(X_test)  # pass in a flattened view of X_test\n",
    "        predicted = torch.max(y_val,1)[1]\n",
    "        correct += (predicted == y_test).sum()\n",
    "print(f'Test accuracy: {correct.item()}/{len(test_data)} = {correct.item()*100/(len(test_data)):7.3f}%')"
   ]
  },
  {
   "cell_type": "code",
   "execution_count": 28,
   "metadata": {},
   "outputs": [
    {
     "name": "stdout",
     "output_type": "stream",
     "text": [
      "[[   0    1    2    3    4    5    6    7    8    9]]\n",
      "\n",
      "[[ 977    4    2    1    0    2    6    1    2    2]\n",
      " [   0 1118    0    1    0    0    2    2    0    0]\n",
      " [   0    1 1024    1    0    1    0    2    2    0]\n",
      " [   0    3    0  994    0    5    0    2    1    1]\n",
      " [   0    0    0    0  961    0    3    0    0    2]\n",
      " [   0    2    0    9    2  881    5    0    1    3]\n",
      " [   2    2    0    0    2    1  940    0    0    0]\n",
      " [   1    1    5    1    0    0    0 1010    1    1]\n",
      " [   0    4    1    3    3    2    2    2  965    5]\n",
      " [   0    0    0    0   14    0    0    9    2  995]]\n"
     ]
    }
   ],
   "source": [
    "# print a row of values for reference\n",
    "np.set_printoptions(formatter=dict(int=lambda x: f'{x:4}'))\n",
    "print(np.arange(10).reshape(1,10))\n",
    "print()\n",
    "\n",
    "# print the confusion matrix\n",
    "print(confusion_matrix(predicted.view(-1).cpu(), y_test.view(-1).cpu()))"
   ]
  },
  {
   "cell_type": "code",
   "execution_count": 29,
   "metadata": {},
   "outputs": [
    {
     "data": {
      "image/png": "[encoded data removed]",
      "text/plain": [
       "<Figure size 72x72 with 1 Axes>"
      ]
     },
     "metadata": {
      "needs_background": "light"
     },
     "output_type": "display_data"
    }
   ],
   "source": [
    "# Single Image\n",
    "\n",
    "x = 2019\n",
    "plt.figure(figsize=(1,1))\n",
    "plt.imshow(test_data[x][0].reshape((28,28)), cmap=\"gist_yarg\");"
   ]
  },
  {
   "cell_type": "code",
   "execution_count": 43,
   "metadata": {},
   "outputs": [
    {
     "name": "stdout",
     "output_type": "stream",
     "text": [
      "Predicted value: 9\n"
     ]
    }
   ],
   "source": [
    "model.eval()\n",
    "with torch.no_grad():\n",
    "    new_pred = model(test_data[x][0].view(1,1,28,28).cuda()).argmax()\n",
    "print(\"Predicted value:\",new_pred.item())"
   ]
  },
  {
   "cell_type": "code",
   "execution_count": null,
   "metadata": {},
   "outputs": [],
   "source": []
  }
 ],
 "metadata": {
  "kernelspec": {
   "display_name": "Python 3",
   "language": "python",
   "name": "python3"
  },
  "language_info": {
   "codemirror_mode": {
    "name": "ipython",
    "version": 3
   },
   "file_extension": ".py",
   "mimetype": "text/x-python",
   "name": "python",
   "nbconvert_exporter": "python",
   "pygments_lexer": "ipython3",
   "version": "3.7.3"
  }
 },
 "nbformat": 4,
 "nbformat_minor": 2
}
