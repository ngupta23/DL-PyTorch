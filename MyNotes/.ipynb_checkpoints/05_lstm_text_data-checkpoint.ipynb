{
 "cells": [
  {
   "cell_type": "code",
   "execution_count": 1,
   "metadata": {},
   "outputs": [],
   "source": [
    "import torch\n",
    "from torch import nn\n",
    "import torch.nn.functional as F\n",
    "\n",
    "import numpy as np\n",
    "import matplotlib.pyplot as plt\n",
    "%matplotlib inline"
   ]
  },
  {
   "cell_type": "code",
   "execution_count": 2,
   "metadata": {},
   "outputs": [],
   "source": [
    "with open('../PYTORCH_NOTEBOOKS/Data/shakespeare.txt','r',encoding='utf8') as f:\n",
    "    text = f.read()"
   ]
  },
  {
   "cell_type": "code",
   "execution_count": 10,
   "metadata": {},
   "outputs": [
    {
     "data": {
      "text/plain": [
       "\"\\n                     1\\n  From fairest creatures we desire increase,\\n  That thereby beauty's rose might never die,\\n  But as the riper should by time decease,\\n  His tender heir might bear his memory:\\n  But thou contracted to thine own bright eyes,\\n  Feed'st thy light's flame with self-substantial fuel,\\n  Making a famine where abundance lies,\\n  Thy self thy foe, to thy sweet self too cruel:\\n  Thou that art now the world's fresh ornament,\\n  And only herald to the gaudy spring,\\n  Within thine own bud buriest thy content,\\n  And tender churl mak'st waste in niggarding:\\n    Pity the world, or else this glutton be,\\n    To eat the world's due, by the grave and thee.\\n\\n\\n                     2\\n  When forty winters shall besiege thy brow,\\n  And dig deep trenches in thy beauty's field,\\n  Thy youth's proud livery so gazed on now,\\n  Will be a tattered weed of small worth held:  \\n  Then being asked, where all thy beauty lies,\\n  Where all the treasure of thy lusty days;\\n  To say within thine own deep su\""
      ]
     },
     "execution_count": 10,
     "metadata": {},
     "output_type": "execute_result"
    }
   ],
   "source": [
    "text[:1000]"
   ]
  },
  {
   "cell_type": "code",
   "execution_count": 11,
   "metadata": {},
   "outputs": [
    {
     "name": "stdout",
     "output_type": "stream",
     "text": [
      "\n",
      "                     1\n",
      "  From fairest creatures we desire increase,\n",
      "  That thereby beauty's rose might never die,\n",
      "  But as the riper should by time decease,\n",
      "  His tender heir might bear his memory:\n",
      "  But thou contracted to thine own bright eyes,\n",
      "  Feed'st thy light's flame with self-substantial fuel,\n",
      "  Making a famine where abundance lies,\n",
      "  Thy self thy foe, to thy sweet self too cruel:\n",
      "  Thou that art now the world's fresh ornament,\n",
      "  And only herald to the gaudy spring,\n",
      "  Within thine own bud buriest thy content,\n",
      "  And tender churl mak'st waste in niggarding:\n",
      "    Pity the world, or else this glutton be,\n",
      "    To eat the world's due, by the grave and thee.\n",
      "\n",
      "\n",
      "                     2\n",
      "  When forty winters shall besiege thy brow,\n",
      "  And dig deep trenches in thy beauty's field,\n",
      "  Thy youth's proud livery so gazed on now,\n",
      "  Will be a tattered weed of small worth held:  \n",
      "  Then being asked, where all thy beauty lies,\n",
      "  Where all the treasure of thy lusty days;\n",
      "  To say within thine own deep su\n"
     ]
    }
   ],
   "source": [
    "print(text[:1000])"
   ]
  },
  {
   "cell_type": "code",
   "execution_count": 12,
   "metadata": {},
   "outputs": [
    {
     "data": {
      "text/plain": [
       "5445609"
      ]
     },
     "execution_count": 12,
     "metadata": {},
     "output_type": "execute_result"
    }
   ],
   "source": [
    "len(text)"
   ]
  },
  {
   "cell_type": "markdown",
   "metadata": {},
   "source": [
    "## Encode Entire Text"
   ]
  },
  {
   "cell_type": "code",
   "execution_count": 14,
   "metadata": {},
   "outputs": [],
   "source": [
    "all_characters = set(text)\n",
    "#all_characters"
   ]
  },
  {
   "cell_type": "code",
   "execution_count": 77,
   "metadata": {},
   "outputs": [
    {
     "data": {
      "text/plain": [
       "84"
      ]
     },
     "execution_count": 77,
     "metadata": {},
     "output_type": "execute_result"
    }
   ],
   "source": [
    "len(all_characters)"
   ]
  },
  {
   "cell_type": "code",
   "execution_count": 20,
   "metadata": {},
   "outputs": [],
   "source": [
    "# num --> letter\n",
    "decoder = dict(enumerate(all_characters))\n",
    "#decoder"
   ]
  },
  {
   "cell_type": "code",
   "execution_count": 21,
   "metadata": {},
   "outputs": [],
   "source": [
    "# letter --> num\n",
    "encoder = {char: ind for ind, char in decoder.items()} # Dictionary Comprehension\n",
    "#encoder"
   ]
  },
  {
   "cell_type": "code",
   "execution_count": 22,
   "metadata": {},
   "outputs": [
    {
     "data": {
      "text/plain": [
       "array([78,  6,  6,  6,  6,  6,  6,  6,  6,  6,  6,  6,  6,  6,  6,  6,  6,\n",
       "        6,  6,  6,  6,  6, 67, 78,  6,  6, 40, 61, 19, 28,  6,  7, 69, 14,\n",
       "       61, 82, 73, 52,  6, 13, 61, 82, 69, 52, 72, 61, 82, 73,  6, 43, 82,\n",
       "        6,  3, 82, 73, 14, 61, 82,  6, 14, 38, 13, 61, 82, 69, 73, 82, 16,\n",
       "       78,  6,  6, 80, 37, 69, 52,  6, 52, 37, 82, 61, 82, 74, 35,  6, 74,\n",
       "       82, 69, 72, 52, 35, 83, 73,  6, 61, 19, 73, 82,  6, 28, 14, 41, 37,\n",
       "       52,  6, 38, 82, 33, 82, 61,  6,  3, 14, 82, 16, 78,  6,  6, 79, 72,\n",
       "       52,  6, 69, 73,  6, 52, 37, 82,  6, 61, 14, 49, 82, 61,  6, 73, 37,\n",
       "       19, 72, 50,  3,  6, 74, 35,  6, 52, 14, 28, 82,  6,  3, 82, 13, 82,\n",
       "       69, 73, 82, 16, 78,  6,  6, 81, 14, 73,  6, 52, 82, 38,  3, 82, 61,\n",
       "        6, 37, 82, 14, 61,  6, 28, 14, 41, 37, 52,  6, 74, 82, 69, 61,  6,\n",
       "       37, 14, 73,  6, 28, 82, 28, 19, 61, 35,  9, 78,  6,  6, 79, 72, 52,\n",
       "        6, 52, 37, 19, 72,  6, 13, 19, 38, 52, 61, 69, 13, 52, 82,  3,  6,\n",
       "       52, 19,  6, 52, 37, 14, 38, 82,  6, 19, 43, 38,  6, 74, 61, 14, 41,\n",
       "       37, 52,  6, 82, 35, 82, 73, 16, 78,  6,  6, 40, 82, 82,  3, 83, 73,\n",
       "       52,  6, 52, 37, 35,  6, 50, 14, 41, 37, 52, 83, 73,  6,  7, 50, 69,\n",
       "       28, 82,  6, 43, 14, 52, 37,  6, 73, 82, 50,  7, 66, 73, 72, 74, 73,\n",
       "       52, 69, 38, 52, 14, 69, 50,  6,  7, 72, 82, 50, 16, 78,  6,  6, 17,\n",
       "       69, 44, 14, 38, 41,  6, 69,  6,  7, 69, 28, 14, 38, 82,  6, 43, 37,\n",
       "       82, 61, 82,  6, 69, 74, 72, 38,  3, 69, 38, 13, 82,  6, 50, 14, 82,\n",
       "       73, 16, 78,  6,  6, 80, 37, 35,  6, 73, 82, 50,  7,  6, 52, 37, 35,\n",
       "        6,  7, 19, 82, 16,  6, 52, 19,  6, 52, 37, 35,  6, 73, 43, 82, 82,\n",
       "       52,  6, 73, 82, 50,  7,  6, 52, 19, 19,  6, 13, 61, 72, 82, 50,  9,\n",
       "       78,  6,  6, 80, 37, 19, 72,  6, 52, 37, 69, 52,  6, 69, 61, 52,  6,\n",
       "       38, 19, 43,  6, 52, 37, 82,  6, 43, 19, 61, 50,  3, 83, 73,  6,  7,\n",
       "       61, 82, 73, 37,  6, 19, 61, 38, 69, 28, 82, 38, 52, 16, 78,  6,  6,\n",
       "       12, 38,  3,  6, 19, 38, 50, 35,  6, 37, 82, 61, 69, 50,  3,  6, 52,\n",
       "       19,  6, 52, 37, 82,  6, 41, 69, 72,  3, 35,  6, 73, 49, 61, 14, 38,\n",
       "       41, 16, 78,  6,  6, 20, 14, 52, 37, 14, 38,  6, 52, 37, 14, 38, 82,\n",
       "        6, 19, 43, 38,  6, 74, 72])"
      ]
     },
     "execution_count": 22,
     "metadata": {},
     "output_type": "execute_result"
    }
   ],
   "source": [
    "encoded_text = np.array([encoder[char] for char in text])\n",
    "encoded_text[:500]"
   ]
  },
  {
   "cell_type": "markdown",
   "metadata": {},
   "source": [
    "## One Hot Encoding\n",
    "\n",
    "As previously discussed, we need to one-hot encode our data inorder for it to work with the network structure. Make sure to review numpy if any of these operations confuse you!"
   ]
  },
  {
   "cell_type": "code",
   "execution_count": 23,
   "metadata": {},
   "outputs": [],
   "source": [
    "def one_hot_encoder(encoded_text, num_uni_chars):\n",
    "    '''\n",
    "    encoded_text : batch of encoded text\n",
    "    \n",
    "    num_uni_chars = number of unique characters (len(set(text)))\n",
    "    '''\n",
    "    \n",
    "    # METHOD FROM:\n",
    "    # https://stackoverflow.com/questions/29831489/convert-encoded_textay-of-indices-to-1-hot-encoded-numpy-encoded_textay\n",
    "      \n",
    "    # Create a placeholder for zeros.\n",
    "    one_hot = np.zeros((encoded_text.size, num_uni_chars))\n",
    "    \n",
    "    # Convert data type for later use with pytorch (errors if we dont!)\n",
    "    one_hot = one_hot.astype(np.float32)\n",
    "\n",
    "    # Using fancy indexing fill in the 1s at the correct index locations\n",
    "    one_hot[np.arange(one_hot.shape[0]), encoded_text.flatten()] = 1.0\n",
    "    \n",
    "\n",
    "    # Reshape it so it matches the batch shape\n",
    "    one_hot = one_hot.reshape((*encoded_text.shape, num_uni_chars))\n",
    "    \n",
    "    return one_hot"
   ]
  },
  {
   "cell_type": "code",
   "execution_count": 24,
   "metadata": {},
   "outputs": [
    {
     "data": {
      "text/plain": [
       "array([[0., 1., 0.],\n",
       "       [0., 0., 1.],\n",
       "       [1., 0., 0.]], dtype=float32)"
      ]
     },
     "execution_count": 24,
     "metadata": {},
     "output_type": "execute_result"
    }
   ],
   "source": [
    "one_hot_encoder(np.array([1,2,0]),3)"
   ]
  },
  {
   "cell_type": "markdown",
   "metadata": {},
   "source": [
    "## Creating Training Batches\n",
    "\n",
    "We need to create a function that will generate batches of characters along with the next character in the sequence as a label."
   ]
  },
  {
   "cell_type": "code",
   "execution_count": 25,
   "metadata": {},
   "outputs": [],
   "source": [
    "def generate_batches(encoded_text, samp_per_batch=10, seq_len=50):\n",
    "    \n",
    "    '''\n",
    "    Generate (using yield) batches for training.\n",
    "    \n",
    "    X: Encoded Text of length seq_len\n",
    "    Y: Encoded Text shifted by one\n",
    "    \n",
    "    Example:\n",
    "    \n",
    "    X: [[1 2 3]]\n",
    "    Y: [[ 2 3 4]]\n",
    "    \n",
    "    encoded_text : Complete Encoded Text to make batches from\n",
    "    batch_size : Number of samples per batch\n",
    "    seq_len : Length of character sequence\n",
    "       \n",
    "    '''\n",
    "    \n",
    "    # Total number of characters per batch\n",
    "    # Example: If samp_per_batch is 2 and seq_len is 50, then 100\n",
    "    # characters come out per batch.\n",
    "    char_per_batch = samp_per_batch * seq_len\n",
    "    \n",
    "    \n",
    "    # Number of batches available to make\n",
    "    # Use int() to round to nearest integer\n",
    "    num_batches_avail = int(len(encoded_text)/char_per_batch)\n",
    "    \n",
    "    # Cut off end of encoded_text that\n",
    "    # won't fit evenly into a batch\n",
    "    encoded_text = encoded_text[:num_batches_avail * char_per_batch]\n",
    "    \n",
    "    \n",
    "    # Reshape text into rows the size of a batch\n",
    "    # Rows is number of samples per batch\n",
    "    encoded_text = encoded_text.reshape((samp_per_batch, -1))\n",
    "    \n",
    "\n",
    "    # Go through each row in array.\n",
    "    for n in range(0, encoded_text.shape[1], seq_len):\n",
    "        \n",
    "        # Grab feature characters\n",
    "        x = encoded_text[:, n:n+seq_len]\n",
    "        \n",
    "        # y is the target shifted over by 1\n",
    "        y = np.zeros_like(x)\n",
    "       \n",
    "        #\n",
    "        try:\n",
    "            y[:, :-1] = x[:, 1:]\n",
    "            y[:, -1]  = encoded_text[:, n+seq_len]\n",
    "            \n",
    "        # FOR POTENTIAL INDEXING ERROR AT THE END    \n",
    "        except:\n",
    "            y[:, :-1] = x[:, 1:]\n",
    "            y[:, -1] = encoded_text[:, 0]\n",
    "            \n",
    "        yield x, y"
   ]
  },
  {
   "cell_type": "markdown",
   "metadata": {},
   "source": [
    "### Example of generating a batch"
   ]
  },
  {
   "cell_type": "code",
   "execution_count": 44,
   "metadata": {},
   "outputs": [
    {
     "data": {
      "text/plain": [
       "array([78,  6,  6,  6,  6,  6,  6,  6,  6,  6,  6,  6,  6,  6,  6,  6,  6,\n",
       "        6,  6,  6,  6,  6, 67, 78,  6,  6, 40, 61, 19, 28,  6,  7, 69, 14,\n",
       "       61, 82, 73, 52,  6, 13])"
      ]
     },
     "execution_count": 44,
     "metadata": {},
     "output_type": "execute_result"
    }
   ],
   "source": [
    "sample_text = encoded_text[:40]\n",
    "sample_text"
   ]
  },
  {
   "cell_type": "code",
   "execution_count": 45,
   "metadata": {},
   "outputs": [],
   "source": [
    "batch_generator = generate_batches(sample_text,\n",
    "                                   samp_per_batch=2,\n",
    "                                   seq_len=5)"
   ]
  },
  {
   "cell_type": "code",
   "execution_count": 46,
   "metadata": {},
   "outputs": [
    {
     "name": "stdout",
     "output_type": "stream",
     "text": [
      "[[78  6  6  6  6]\n",
      " [ 6  6 67 78  6]]\n",
      "--------------------\n",
      "[[ 6  6  6  6  6]\n",
      " [ 6 67 78  6  6]]\n"
     ]
    }
   ],
   "source": [
    "# Grab first batch\n",
    "x, y = next(batch_generator)\n",
    "print(x)\n",
    "print(\"-\"*20)\n",
    "print(y)"
   ]
  },
  {
   "cell_type": "code",
   "execution_count": 47,
   "metadata": {},
   "outputs": [
    {
     "name": "stdout",
     "output_type": "stream",
     "text": [
      "[[ 6  6  6  6  6]\n",
      " [ 6 40 61 19 28]]\n",
      "--------------------\n",
      "[[ 6  6  6  6  6]\n",
      " [40 61 19 28  6]]\n"
     ]
    }
   ],
   "source": [
    "# Grab second batch\n",
    "x, y = next(batch_generator)\n",
    "print(x)\n",
    "print(\"-\"*20)\n",
    "print(y)"
   ]
  },
  {
   "cell_type": "markdown",
   "metadata": {},
   "source": [
    "# Creating the LSTM Model\n",
    "\n",
    "**Note! We will have options for GPU users and CPU users. CPU will take MUCH LONGER to train and you may encounter RAM issues depending on your hardware.**"
   ]
  },
  {
   "cell_type": "code",
   "execution_count": 48,
   "metadata": {},
   "outputs": [],
   "source": [
    "class CharModel(nn.Module):\n",
    "    \n",
    "    def __init__(self,\n",
    "                 all_chars,\n",
    "                 num_hidden=256,\n",
    "                 num_layers=4,\n",
    "                 drop_prob=0.5,\n",
    "                 use_gpu=False):\n",
    "                \n",
    "        # SET UP ATTRIBUTES\n",
    "        super().__init__()\n",
    "        self.drop_prob = drop_prob\n",
    "        self.num_layers = num_layers\n",
    "        self.num_hidden = num_hidden\n",
    "        self.use_gpu = use_gpu\n",
    "        \n",
    "        #CHARACTER SET, ENCODER, and DECODER\n",
    "        self.all_chars = all_chars\n",
    "        self.decoder = dict(enumerate(all_chars))\n",
    "        self.encoder = {char: ind for ind,char in decoder.items()}\n",
    "        \n",
    "        # Input is OHE so size is set appropriately\n",
    "        self.lstm = nn.LSTM(input_size = len(self.all_chars),\n",
    "                            hidden_size = num_hidden,\n",
    "                            num_layers = num_layers,\n",
    "                            dropout = drop_prob,\n",
    "                            batch_first = True)\n",
    "        \n",
    "        self.dropout = nn.Dropout(drop_prob)\n",
    "        \n",
    "        # Output is OHE so size is set appropriately\n",
    "        self.fc_linear = nn.Linear(num_hidden, len(self.all_chars))\n",
    "      \n",
    "    \n",
    "    def forward(self, x, hidden):\n",
    "        \"\"\"\n",
    "        The forward method here is different from the time series data. In \n",
    "        the TS data, we had a fixed window for X and we were predicting single value of y (1 future value). More importantly. the model was \n",
    "        trained with the same length of data as the predictions. Hence we did\n",
    "        not care about the hidden state (and this was kept internal to the model).\n",
    "        \n",
    "        This case is however slightly different. We are training the model\n",
    "        on a sequence of say 100 characters (so we learn long term memory effects),\n",
    "        but when generating text, we are not feeding it 100 characters (since we \n",
    "        dont have that many to start with anyway). We are only feeding in 1 \n",
    "        character at a time (previous prediction) along with the previous hidden \n",
    "        state to predict the next character. Hence we need to not encapsulate the\n",
    "        hidden state inside the model, rather pass it to the forward method so \n",
    "        that the training and generation can use different number of X sequence \n",
    "        values (100 suring training, but only one at a time during generation)\n",
    "        \"\"\"\n",
    "        \n",
    "        lstm_output, hidden = self.lstm(x, hidden)\n",
    "                \n",
    "        drop_output = self.dropout(lstm_output)\n",
    "        \n",
    "        # Reshaping it so it can be fed to the FC layer\n",
    "        drop_output = drop_output.contiguous().view(-1, self.num_hidden)\n",
    "        \n",
    "        final_out = self.fc_linear(drop_output)\n",
    "                \n",
    "        return final_out, hidden\n",
    "    \n",
    "    \n",
    "    def hidden_state(self, batch_size):\n",
    "        '''\n",
    "        Used as separate method to account for both GPU and CPU users.\n",
    "        '''\n",
    "        \n",
    "        if self.use_gpu:\n",
    "            \n",
    "            hidden = (torch.zeros(self.num_layers,batch_size,self.num_hidden).cuda(),\n",
    "                     torch.zeros(self.num_layers,batch_size,self.num_hidden).cuda())\n",
    "        else:\n",
    "            hidden = (torch.zeros(self.num_layers,batch_size,self.num_hidden),\n",
    "                     torch.zeros(self.num_layers,batch_size,self.num_hidden))\n",
    "        \n",
    "        return hidden\n",
    "        "
   ]
  },
  {
   "cell_type": "markdown",
   "metadata": {},
   "source": [
    "## Instance of the Model"
   ]
  },
  {
   "cell_type": "code",
   "execution_count": 49,
   "metadata": {},
   "outputs": [],
   "source": [
    "model = CharModel(\n",
    "    all_chars=all_characters,\n",
    "    num_hidden=512,\n",
    "    num_layers=3,\n",
    "    drop_prob=0.5,\n",
    "    use_gpu=True,\n",
    ")"
   ]
  },
  {
   "cell_type": "code",
   "execution_count": 51,
   "metadata": {},
   "outputs": [
    {
     "data": {
      "text/plain": [
       "5470292"
      ]
     },
     "execution_count": 51,
     "metadata": {},
     "output_type": "execute_result"
    }
   ],
   "source": [
    "total_param  = []\n",
    "for p in model.parameters():\n",
    "    total_param.append(int(p.numel()))\n",
    "    \n",
    "sum(total_param)"
   ]
  },
  {
   "cell_type": "markdown",
   "metadata": {},
   "source": [
    "## Optimizer and Loss"
   ]
  },
  {
   "cell_type": "code",
   "execution_count": 52,
   "metadata": {},
   "outputs": [],
   "source": [
    "optimizer = torch.optim.Adam(model.parameters(),lr=0.001)\n",
    "criterion = nn.CrossEntropyLoss()"
   ]
  },
  {
   "cell_type": "markdown",
   "metadata": {},
   "source": [
    "## Training Data and Validation Data"
   ]
  },
  {
   "cell_type": "code",
   "execution_count": 53,
   "metadata": {},
   "outputs": [
    {
     "name": "stdout",
     "output_type": "stream",
     "text": [
      "5445609\n",
      "544560\n"
     ]
    }
   ],
   "source": [
    "# percentage of data to be used for training\n",
    "train_percent = 0.1\n",
    "\n",
    "print(len(encoded_text))\n",
    "print(int(len(encoded_text) * (train_percent)))"
   ]
  },
  {
   "cell_type": "code",
   "execution_count": 54,
   "metadata": {},
   "outputs": [],
   "source": [
    "train_ind = int(len(encoded_text) * (train_percent))"
   ]
  },
  {
   "cell_type": "code",
   "execution_count": 55,
   "metadata": {},
   "outputs": [],
   "source": [
    "train_data = encoded_text[:train_ind]\n",
    "val_data = encoded_text[train_ind:]"
   ]
  },
  {
   "cell_type": "markdown",
   "metadata": {},
   "source": [
    "# Training the Network"
   ]
  },
  {
   "cell_type": "markdown",
   "metadata": {},
   "source": [
    "## Variables\n",
    "\n",
    "Feel free to play around with these values!"
   ]
  },
  {
   "cell_type": "code",
   "execution_count": 57,
   "metadata": {},
   "outputs": [],
   "source": [
    "## VARIABLES\n",
    "\n",
    "# Epochs to train for\n",
    "epochs = 50\n",
    "# batch size \n",
    "batch_size = 128\n",
    "\n",
    "# Length of sequence\n",
    "seq_len = 100\n",
    "\n",
    "# for printing report purposes\n",
    "# always start at 0\n",
    "tracker = 0\n",
    "\n",
    "# number of characters in text\n",
    "num_char = max(encoded_text)+1"
   ]
  },
  {
   "cell_type": "code",
   "execution_count": 91,
   "metadata": {},
   "outputs": [],
   "source": [
    "# hidden = (torch.zeros(2,3,4).cuda(),\n",
    "#           torch.zeros(2,3,4).cuda())\n",
    "# hidden"
   ]
  },
  {
   "cell_type": "code",
   "execution_count": 92,
   "metadata": {},
   "outputs": [],
   "source": [
    "# hidden2 = tuple([state.data for state in hidden])\n",
    "# hidden2"
   ]
  },
  {
   "cell_type": "code",
   "execution_count": 81,
   "metadata": {},
   "outputs": [
    {
     "name": "stdout",
     "output_type": "stream",
     "text": [
      "Epoch: 0 Step: 75 Val Loss: 3.196232318878174\n",
      "Epoch: 0 Step: 100 Val Loss: 3.081327438354492\n",
      "Epoch: 1 Step: 125 Val Loss: 3.0036447048187256\n",
      "Epoch: 1 Step: 150 Val Loss: 2.8926119804382324\n",
      "Epoch: 2 Step: 175 Val Loss: 2.75602650642395\n",
      "Epoch: 3 Step: 200 Val Loss: 2.6580865383148193\n",
      "Epoch: 3 Step: 225 Val Loss: 2.5415375232696533\n",
      "Epoch: 4 Step: 250 Val Loss: 2.4562277793884277\n",
      "Epoch: 4 Step: 275 Val Loss: 2.4034595489501953\n",
      "Epoch: 5 Step: 300 Val Loss: 2.359745979309082\n",
      "Epoch: 6 Step: 325 Val Loss: 2.315908193588257\n",
      "Epoch: 6 Step: 350 Val Loss: 2.271934986114502\n",
      "Epoch: 7 Step: 375 Val Loss: 2.2370591163635254\n",
      "Epoch: 7 Step: 400 Val Loss: 2.2066919803619385\n",
      "Epoch: 8 Step: 425 Val Loss: 2.1765236854553223\n",
      "Epoch: 9 Step: 450 Val Loss: 2.145747184753418\n",
      "Epoch: 9 Step: 475 Val Loss: 2.122340440750122\n",
      "Epoch: 10 Step: 500 Val Loss: 2.095566749572754\n",
      "Epoch: 10 Step: 525 Val Loss: 2.074287176132202\n",
      "Epoch: 11 Step: 550 Val Loss: 2.0558643341064453\n",
      "Epoch: 12 Step: 575 Val Loss: 2.036259651184082\n",
      "Epoch: 12 Step: 600 Val Loss: 2.0123915672302246\n",
      "Epoch: 13 Step: 625 Val Loss: 1.998390793800354\n",
      "Epoch: 13 Step: 650 Val Loss: 1.9888819456100464\n",
      "Epoch: 14 Step: 675 Val Loss: 1.97025728225708\n",
      "Epoch: 15 Step: 700 Val Loss: 1.9646542072296143\n",
      "Epoch: 15 Step: 725 Val Loss: 1.9383105039596558\n",
      "Epoch: 16 Step: 750 Val Loss: 1.933846116065979\n",
      "Epoch: 16 Step: 775 Val Loss: 1.9222108125686646\n",
      "Epoch: 17 Step: 800 Val Loss: 1.9132667779922485\n",
      "Epoch: 18 Step: 825 Val Loss: 1.9035907983779907\n",
      "Epoch: 18 Step: 850 Val Loss: 1.8894740343093872\n",
      "Epoch: 19 Step: 875 Val Loss: 1.8752039670944214\n",
      "Epoch: 19 Step: 900 Val Loss: 1.876510500907898\n",
      "Epoch: 20 Step: 925 Val Loss: 1.8675727844238281\n",
      "Epoch: 21 Step: 950 Val Loss: 1.8564469814300537\n",
      "Epoch: 21 Step: 975 Val Loss: 1.847450852394104\n",
      "Epoch: 22 Step: 1000 Val Loss: 1.8358670473098755\n",
      "Epoch: 22 Step: 1025 Val Loss: 1.8287837505340576\n",
      "Epoch: 23 Step: 1050 Val Loss: 1.8272825479507446\n",
      "Epoch: 24 Step: 1075 Val Loss: 1.8150665760040283\n",
      "Epoch: 24 Step: 1100 Val Loss: 1.8159189224243164\n",
      "Epoch: 25 Step: 1125 Val Loss: 1.8022024631500244\n",
      "Epoch: 25 Step: 1150 Val Loss: 1.8012974262237549\n",
      "Epoch: 26 Step: 1175 Val Loss: 1.802650809288025\n",
      "Epoch: 26 Step: 1200 Val Loss: 1.7907634973526\n",
      "Epoch: 27 Step: 1225 Val Loss: 1.7961584329605103\n",
      "Epoch: 28 Step: 1250 Val Loss: 1.7916030883789062\n",
      "Epoch: 28 Step: 1275 Val Loss: 1.7791481018066406\n",
      "Epoch: 29 Step: 1300 Val Loss: 1.7818223237991333\n",
      "Epoch: 29 Step: 1325 Val Loss: 1.7779911756515503\n",
      "Epoch: 30 Step: 1350 Val Loss: 1.775278925895691\n",
      "Epoch: 31 Step: 1375 Val Loss: 1.777048945426941\n",
      "Epoch: 31 Step: 1400 Val Loss: 1.7644071578979492\n",
      "Epoch: 32 Step: 1425 Val Loss: 1.7665120363235474\n",
      "Epoch: 32 Step: 1450 Val Loss: 1.7682453393936157\n",
      "Epoch: 33 Step: 1475 Val Loss: 1.7642892599105835\n",
      "Epoch: 34 Step: 1500 Val Loss: 1.7617487907409668\n",
      "Epoch: 34 Step: 1525 Val Loss: 1.754042148590088\n",
      "Epoch: 35 Step: 1550 Val Loss: 1.7536522150039673\n",
      "Epoch: 35 Step: 1575 Val Loss: 1.757136344909668\n",
      "Epoch: 36 Step: 1600 Val Loss: 1.7538810968399048\n",
      "Epoch: 37 Step: 1625 Val Loss: 1.7515455484390259\n",
      "Epoch: 37 Step: 1650 Val Loss: 1.7441993951797485\n",
      "Epoch: 38 Step: 1675 Val Loss: 1.7509963512420654\n",
      "Epoch: 38 Step: 1700 Val Loss: 1.7375696897506714\n",
      "Epoch: 39 Step: 1725 Val Loss: 1.7453824281692505\n",
      "Epoch: 40 Step: 1750 Val Loss: 1.7350419759750366\n",
      "Epoch: 40 Step: 1775 Val Loss: 1.7404941320419312\n",
      "Epoch: 41 Step: 1800 Val Loss: 1.7410579919815063\n",
      "Epoch: 41 Step: 1825 Val Loss: 1.7413631677627563\n",
      "Epoch: 42 Step: 1850 Val Loss: 1.7410271167755127\n",
      "Epoch: 43 Step: 1875 Val Loss: 1.734960913658142\n",
      "Epoch: 43 Step: 1900 Val Loss: 1.7428538799285889\n",
      "Epoch: 44 Step: 1925 Val Loss: 1.740230679512024\n",
      "Epoch: 44 Step: 1950 Val Loss: 1.7400277853012085\n",
      "Epoch: 45 Step: 1975 Val Loss: 1.7429057359695435\n",
      "Epoch: 46 Step: 2000 Val Loss: 1.7425026893615723\n",
      "Epoch: 46 Step: 2025 Val Loss: 1.7391325235366821\n",
      "Epoch: 47 Step: 2050 Val Loss: 1.7394366264343262\n",
      "Epoch: 47 Step: 2075 Val Loss: 1.737708330154419\n",
      "Epoch: 48 Step: 2100 Val Loss: 1.7338345050811768\n",
      "Epoch: 49 Step: 2125 Val Loss: 1.7398048639297485\n",
      "Epoch: 49 Step: 2150 Val Loss: 1.7538630962371826\n"
     ]
    }
   ],
   "source": [
    "# Set model to train\n",
    "model.train()\n",
    "\n",
    "# Check to see if using GPU\n",
    "if model.use_gpu:\n",
    "    model.cuda()\n",
    "\n",
    "for i in range(epochs):\n",
    "    \n",
    "    hidden = model.hidden_state(batch_size)\n",
    "        \n",
    "    for x,y in generate_batches(train_data,batch_size,seq_len):\n",
    "        \n",
    "        tracker += 1\n",
    "        \n",
    "        # One Hot Encode incoming data\n",
    "        x = one_hot_encoder(x,num_char)\n",
    "        # Note that OHE is not needed for Y for CrossEntropyLoss as per\n",
    "        # https://pytorch.org/docs/stable/nn.html#crossentropyloss\n",
    "        \n",
    "        # Convert Numpy Arrays to Tensor\n",
    "        inputs = torch.from_numpy(x)\n",
    "        targets = torch.from_numpy(y)\n",
    "        \n",
    "        # print(\"Target Shape: {}\".format(targets.shape))\n",
    "        ## Target Shape: torch.Size([128, 100])\n",
    "\n",
    "        # Adjust for GPU if necessary\n",
    "        if model.use_gpu: \n",
    "            inputs = inputs.cuda()\n",
    "            targets = targets.cuda()\n",
    "            \n",
    "        # Reset Hidden State\n",
    "        # If we dont' reset we would backpropagate through all training history\n",
    "        \n",
    "        # print(\"Before Shape: {} {}\".format(hidden[0].shape, hidden[1].shape))\n",
    "        hidden = tuple([state.data for state in hidden])\n",
    "        # print(\"After Shape: {} {}\".format(hidden[0].shape, hidden[1].shape))\n",
    "        \n",
    "        model.zero_grad()\n",
    "        \n",
    "        lstm_output, hidden = model.forward(inputs,hidden)\n",
    "        \n",
    "        # print(\"LSTM Output Shape: {}\".format(lstm_output.shape))\n",
    "        # # LSTM Output Shape: torch.Size([12800, 84])\n",
    "        \n",
    "        # Note that OHE is not needed for Y for CrossEntropyLoss as per\n",
    "        # https://pytorch.org/docs/stable/nn.html#crossentropyloss\n",
    "        loss = criterion(lstm_output,\n",
    "                         targets.view(batch_size*seq_len).long())\n",
    "        \n",
    "        loss.backward()\n",
    "        # POSSIBLE EXPLODING GRADIENT PROBLEM! LET\"S CLIP JUST IN CASE\n",
    "        nn.utils.clip_grad_norm_(model.parameters(),max_norm=5)\n",
    "        optimizer.step()\n",
    "                \n",
    "        ###################################\n",
    "        ### CHECK ON VALIDATION SET ######\n",
    "        #################################\n",
    "        \n",
    "        if tracker % 25 == 0:\n",
    "            \n",
    "            val_hidden = model.hidden_state(batch_size)\n",
    "            val_losses = []\n",
    "            model.eval()\n",
    "            \n",
    "            for x,y in generate_batches(val_data,batch_size,seq_len):\n",
    "                \n",
    "                # One Hot Encode incoming data\n",
    "                x = one_hot_encoder(x,num_char)\n",
    "                \n",
    "                # Convert Numpy Arrays to Tensor\n",
    "                inputs = torch.from_numpy(x)\n",
    "                targets = torch.from_numpy(y)\n",
    "\n",
    "                # Adjust for GPU if necessary\n",
    "\n",
    "                if model.use_gpu:\n",
    "                    inputs = inputs.cuda()\n",
    "                    targets = targets.cuda()\n",
    "                    \n",
    "                # Reset Hidden State\n",
    "                # If we dont' reset we would backpropagate through \n",
    "                # all training history\n",
    "                val_hidden = tuple([state.data for state in val_hidden])\n",
    "                \n",
    "                lstm_output, val_hidden = model.forward(inputs,val_hidden)\n",
    "                val_loss = criterion(lstm_output,targets.view(batch_size*seq_len).long())\n",
    "        \n",
    "                val_losses.append(val_loss.item())\n",
    "            \n",
    "            # Reset to training model after val for loop\n",
    "            model.train()\n",
    "            \n",
    "            print(f\"Epoch: {i} Step: {tracker} Val Loss: {val_loss.item()}\")"
   ]
  },
  {
   "cell_type": "code",
   "execution_count": 83,
   "metadata": {},
   "outputs": [],
   "source": [
    "# Backup model saved as hidden512_layers3_shakes_ng.net\n",
    "model_name = 'hidden512_layers3_shakes.net'\n",
    "torch.save(model.state_dict(),model_name)"
   ]
  },
  {
   "cell_type": "markdown",
   "metadata": {},
   "source": [
    "## Load Model"
   ]
  },
  {
   "cell_type": "code",
   "execution_count": 84,
   "metadata": {},
   "outputs": [],
   "source": [
    "# MUST MATCH THE EXACT SAME SETTINGS AS MODEL USED DURING TRAINING!\n",
    "\n",
    "model = CharModel(\n",
    "    all_chars=all_characters,\n",
    "    num_hidden=512,\n",
    "    num_layers=3,\n",
    "    drop_prob=0.5,\n",
    "    use_gpu=True,\n",
    ")"
   ]
  },
  {
   "cell_type": "code",
   "execution_count": 85,
   "metadata": {},
   "outputs": [
    {
     "data": {
      "text/plain": [
       "CharModel(\n",
       "  (lstm): LSTM(84, 512, num_layers=3, batch_first=True, dropout=0.5)\n",
       "  (dropout): Dropout(p=0.5)\n",
       "  (fc_linear): Linear(in_features=512, out_features=84, bias=True)\n",
       ")"
      ]
     },
     "execution_count": 85,
     "metadata": {},
     "output_type": "execute_result"
    }
   ],
   "source": [
    "model.load_state_dict(torch.load(model_name))\n",
    "model.eval()"
   ]
  },
  {
   "cell_type": "markdown",
   "metadata": {},
   "source": [
    "# Generating Predictions"
   ]
  },
  {
   "cell_type": "code",
   "execution_count": 86,
   "metadata": {},
   "outputs": [],
   "source": [
    "def predict_next_char(model, char, hidden=None, k=1):\n",
    "        \"\"\"\n",
    "        char: Single Character\n",
    "        k: returns k largest probabilities\n",
    "        \"\"\"\n",
    "        \n",
    "        # Encode raw letters with model\n",
    "        encoded_text = model.encoder[char]\n",
    "        \n",
    "        # set as numpy array for one hot encoding\n",
    "        # NOTE THE [[ ]] dimensions!!\n",
    "        encoded_text = np.array([[encoded_text]])\n",
    "        \n",
    "        # One hot encoding\n",
    "        encoded_text = one_hot_encoder(encoded_text, len(model.all_chars))\n",
    "        \n",
    "        # Convert to Tensor\n",
    "        inputs = torch.from_numpy(encoded_text)\n",
    "        \n",
    "        # Check for CPU\n",
    "        if(model.use_gpu):\n",
    "            inputs = inputs.cuda()\n",
    "              \n",
    "        # Grab hidden states\n",
    "        hidden = tuple([state.data for state in hidden])\n",
    "          \n",
    "        # Run model and get predicted output\n",
    "        lstm_out, hidden = model(inputs, hidden)\n",
    "\n",
    "        # Convert lstm_out to probabilities\n",
    "        probs = F.softmax(lstm_out, dim=1).data\n",
    "        \n",
    "        if(model.use_gpu):\n",
    "            # move back to CPU to use with numpy\n",
    "            probs = probs.cpu()\n",
    "            \n",
    "        # k determines how many characters to consider\n",
    "        # for our probability choice.\n",
    "        # https://pytorch.org/docs/stable/torch.html#torch.topk\n",
    "        \n",
    "        # Return k largest probabilities in tensor\n",
    "        probs, index_positions = probs.topk(k)\n",
    "        \n",
    "        index_positions = index_positions.numpy().squeeze()\n",
    "        \n",
    "        # Create array of probabilities\n",
    "        probs = probs.numpy().flatten()\n",
    "        \n",
    "        # Convert to probabilities per index\n",
    "        probs = probs/probs.sum()\n",
    "        \n",
    "        # randomly choose a character based on probabilities\n",
    "        char = np.random.choice(index_positions, p=probs)\n",
    "       \n",
    "        # return the encoded value of the predicted char and the hidden state\n",
    "        return model.decoder[char], hidden"
   ]
  },
  {
   "cell_type": "code",
   "execution_count": 89,
   "metadata": {},
   "outputs": [],
   "source": [
    "def generate_text(model, size, seed='The', k=1):\n",
    "    \"\"\"\n",
    "    size: how many characters we want to predict\n",
    "    \"\"\"    \n",
    "    # CHECK FOR GPU\n",
    "    if(model.use_gpu):\n",
    "        model.cuda()\n",
    "    else:\n",
    "        model.cpu()\n",
    "    \n",
    "    # Evaluation mode\n",
    "    model.eval()\n",
    "    \n",
    "    # begin output from initial seed\n",
    "    output_chars = [c for c in seed]\n",
    "    \n",
    "    # intiate hidden state\n",
    "    hidden = model.hidden_state(batch_size = 1)\n",
    "    \n",
    "    # predict the next character for every character in seed\n",
    "    for char in seed:\n",
    "        char, hidden = predict_next_char(model, char, hidden, k=k)\n",
    "    \n",
    "    # add initial characters to output\n",
    "    output_chars.append(char)\n",
    "    \n",
    "    # Now generate for size requested\n",
    "    for i in range(size):\n",
    "        \n",
    "        # predict based off very last letter in output_chars\n",
    "        char, hidden = predict_next_char(model, output_chars[-1], hidden, k=k)\n",
    "        \n",
    "        # add predicted character\n",
    "        output_chars.append(char)\n",
    "    \n",
    "    # return string of predicted text\n",
    "    return ''.join(output_chars)"
   ]
  },
  {
   "cell_type": "code",
   "execution_count": 90,
   "metadata": {},
   "outputs": [
    {
     "name": "stdout",
     "output_type": "stream",
     "text": [
      "The see her sead against me.\n",
      "    I have not so best something thee all. They have seen\n",
      "    And best that strange one to his father word.\n",
      "  CELIA. There would I spoke a worthy. If thou, I shall not seem the forest\n",
      "    and ston to her fool. Think in the can that's true too morth to\n",
      "    the stranger of the court, and this in my soldier winds of his\n",
      "    sone, and the war of merching of the strights of the counterfore\n",
      "    hath taunt the can that which time have stoly that has the master, with\n",
      "    him than I have sent.\n",
      "  CLOWN. What will you, sir, and she within the content of this\n",
      "    competies, and stants are all men. I have speak as he hath\n",
      "    and servance.\n",
      "  COUNTESS. I am not thine one, and what thou art not so many\n",
      "    that we shall not be.\n",
      "  CELIA. If this well beauty, then we see him. If I with me.\n",
      "  ROSALIND. I will stay to me.\n",
      "  ROSALIND. What, she it spoke than your braves of the canson more of the world\n",
      "    as you to her this to him.\n",
      "  COUNTESS. With him and me, my lord, I will speak\n"
     ]
    }
   ],
   "source": [
    "print(generate_text(model, 1000, seed='The ', k=3))"
   ]
  },
  {
   "cell_type": "code",
   "execution_count": null,
   "metadata": {},
   "outputs": [],
   "source": []
  }
 ],
 "metadata": {
  "kernelspec": {
   "display_name": "Python 3",
   "language": "python",
   "name": "python3"
  },
  "language_info": {
   "codemirror_mode": {
    "name": "ipython",
    "version": 3
   },
   "file_extension": ".py",
   "mimetype": "text/x-python",
   "name": "python",
   "nbconvert_exporter": "python",
   "pygments_lexer": "ipython3",
   "version": "3.7.3"
  }
 },
 "nbformat": 4,
 "nbformat_minor": 2
}
